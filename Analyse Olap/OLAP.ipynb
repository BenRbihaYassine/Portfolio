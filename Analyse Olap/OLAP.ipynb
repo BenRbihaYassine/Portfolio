{
 "cells": [
  {
   "cell_type": "code",
   "execution_count": 1,
   "id": "b3f4fc77-27f9-45dc-926e-efd483558b3a",
   "metadata": {},
   "outputs": [],
   "source": [
    "import pandas as p\n",
    "import psycopg2\n",
    "pgconn = psycopg2.connect(dbname='BIproject',user='postgres', password='admin', port='5432')  "
   ]
  },
  {
   "cell_type": "code",
   "execution_count": 2,
   "id": "cb2cdf8b-ecf4-4b9e-80a3-a733bd9dd354",
   "metadata": {},
   "outputs": [
    {
     "name": "stdout",
     "output_type": "stream",
     "text": [
      "       popul_per_country_id    date_id continent_id cases deaths  cumulative\n",
      "0  AfghanistanAFAFG38041757  A20M12J14         Asia   746      6    9.013780\n",
      "1  AfghanistanAFAFG38041757  A20M12J13         Asia   298      9    7.052776\n",
      "2  AfghanistanAFAFG38041757  A20M12J12         Asia   113     11    6.868768\n",
      "3  AfghanistanAFAFG38041757  A20M12J11         Asia    63     10    7.134265\n",
      "4  AfghanistanAFAFG38041757  A20M12J10         Asia   202     16    6.968658\n"
     ]
    },
    {
     "name": "stderr",
     "output_type": "stream",
     "text": [
      "C:\\Users\\fassa\\AppData\\Local\\Temp\\ipykernel_16136\\818627710.py:1: UserWarning: pandas only supports SQLAlchemy connectable (engine/connection) or database string URI or sqlite3 DBAPI2 connection. Other DBAPI2 objects are not tested. Please consider using SQLAlchemy.\n",
      "  covid_df = p.read_sql_query('select * from \"dw_schema\".fact_covid',con=pgconn)\n"
     ]
    }
   ],
   "source": [
    "covid_df = p.read_sql_query('select * from \"dw_schema\".fact_covid',con=pgconn)\n",
    "print(covid_df.head())"
   ]
  },
  {
   "cell_type": "code",
   "execution_count": 3,
   "id": "d6f47481-0769-4833-a076-13b267b5b74f",
   "metadata": {},
   "outputs": [
    {
     "name": "stdout",
     "output_type": "stream",
     "text": [
      "       popul_per_country_id      country geold countrycode   popdata\n",
      "0  AfghanistanAFAFG38041757  Afghanistan    AF         AFG  38041757\n",
      "1       AlbaniaALALB2862427      Albania    AL         ALB   2862427\n",
      "2      AlgeriaDZDZA43053054      Algeria    DZ         DZA  43053054\n",
      "3         AndorraADAND76177      Andorra    AD         AND     76177\n",
      "4       AngolaAOAGO31825299       Angola    AO         AGO  31825299\n"
     ]
    },
    {
     "name": "stderr",
     "output_type": "stream",
     "text": [
      "C:\\Users\\fassa\\AppData\\Local\\Temp\\ipykernel_16136\\1057505864.py:2: UserWarning: pandas only supports SQLAlchemy connectable (engine/connection) or database string URI or sqlite3 DBAPI2 connection. Other DBAPI2 objects are not tested. Please consider using SQLAlchemy.\n",
      "  population_df = p.read_sql_query('select * from \"dw_schema\".dim_population',con=pgconn)\n"
     ]
    }
   ],
   "source": [
    "# Parse JSON file holding mapping between a category ID and its title, and make a DataFrame out of it.\n",
    "population_df = p.read_sql_query('select * from \"dw_schema\".dim_population',con=pgconn)\n",
    "print(population_df.head())"
   ]
  },
  {
   "cell_type": "code",
   "execution_count": 4,
   "id": "f88aa0e9-f4d0-4da6-8bf6-350d4de6736f",
   "metadata": {},
   "outputs": [
    {
     "name": "stdout",
     "output_type": "stream",
     "text": [
      "     date_id jour mois année\n",
      "0  A20M12J14   14   12  2020\n",
      "1  A20M12J13   13   12  2020\n",
      "2  A20M12J12   12   12  2020\n",
      "3  A20M12J11   11   12  2020\n",
      "4  A20M12J10   10   12  2020\n"
     ]
    },
    {
     "name": "stderr",
     "output_type": "stream",
     "text": [
      "C:\\Users\\fassa\\AppData\\Local\\Temp\\ipykernel_16136\\3569179004.py:1: UserWarning: pandas only supports SQLAlchemy connectable (engine/connection) or database string URI or sqlite3 DBAPI2 connection. Other DBAPI2 objects are not tested. Please consider using SQLAlchemy.\n",
      "  date_df = p.read_sql_query('select * from \"dw_schema\".dim_date',con=pgconn)\n"
     ]
    }
   ],
   "source": [
    "date_df = p.read_sql_query('select * from \"dw_schema\".dim_date',con=pgconn)\n",
    "print(date_df.head())"
   ]
  },
  {
   "cell_type": "code",
   "execution_count": 5,
   "id": "b8089132-c575-4b8f-9627-48b6b268ed53",
   "metadata": {},
   "outputs": [
    {
     "name": "stdout",
     "output_type": "stream",
     "text": [
      "  continent_id continent\n",
      "0         Asia      Asia\n",
      "1       Europe    Europe\n",
      "2       Africa    Africa\n",
      "3      America   America\n",
      "4      Oceania   Oceania\n"
     ]
    },
    {
     "name": "stderr",
     "output_type": "stream",
     "text": [
      "C:\\Users\\fassa\\AppData\\Local\\Temp\\ipykernel_16136\\3522398829.py:1: UserWarning: pandas only supports SQLAlchemy connectable (engine/connection) or database string URI or sqlite3 DBAPI2 connection. Other DBAPI2 objects are not tested. Please consider using SQLAlchemy.\n",
      "  continent_df = p.read_sql_query('select * from \"dw_schema\".dim_continent',con=pgconn)\n"
     ]
    }
   ],
   "source": [
    "continent_df = p.read_sql_query('select * from \"dw_schema\".dim_continent',con=pgconn)\n",
    "print(continent_df.head())"
   ]
  },
  {
   "cell_type": "code",
   "execution_count": 6,
   "id": "b6366d25-3879-4bbf-ba9c-18b0a1b7c3dd",
   "metadata": {},
   "outputs": [
    {
     "name": "stdout",
     "output_type": "stream",
     "text": [
      "Welcome to Atoti 0.8.7!\n",
      "\n",
      "By using this community edition, you agree with the license available at https://docs.atoti.io/latest/eula.html.\n",
      "Browse the official documentation at https://docs.atoti.io.\n",
      "Join the community at https://www.atoti.io/register.\n",
      "\n",
      "Atoti collects telemetry data, which is used to help understand how to improve the product.\n",
      "If you don't wish to send usage data, you can request a trial license at https://www.atoti.io/evaluation-license-request.\n",
      "\n",
      "You can hide this message by setting the `ATOTI_HIDE_EULA_MESSAGE` environment variable to True.\n"
     ]
    },
    {
     "data": {
      "text/plain": [
       "['ADVANCED_APP_EXTENSION',\n",
       " 'AggregateProvider',\n",
       " 'Auth',\n",
       " 'AutoMultiColumnArrayConversion',\n",
       " 'BOOLEAN',\n",
       " 'BasicAuthentication',\n",
       " 'BasicAuthenticationConfig',\n",
       " 'BrandingConfig',\n",
       " 'ClientCertificate',\n",
       " 'ClientCertificateConfig',\n",
       " 'ClientSideEncryptionConfig',\n",
       " 'Column',\n",
       " 'Cube',\n",
       " 'CumulativeScope',\n",
       " 'CustomOrder',\n",
       " 'DOUBLE',\n",
       " 'DOUBLE_ARRAY',\n",
       " 'DataType',\n",
       " 'ExternalAggregateTable',\n",
       " 'ExternalTableIdentifier',\n",
       " 'ExternalTables',\n",
       " 'FLOAT',\n",
       " 'FLOAT_ARRAY',\n",
       " 'Hierarchy',\n",
       " 'HttpsConfig',\n",
       " 'I18nConfig',\n",
       " 'INT',\n",
       " 'INT_ARRAY',\n",
       " 'JwtConfig',\n",
       " 'KerberosConfig',\n",
       " 'KeyPair',\n",
       " 'LOCAL_DATE',\n",
       " 'LOCAL_DATE_TIME',\n",
       " 'LOCAL_TIME',\n",
       " 'LONG',\n",
       " 'LONG_ARRAY',\n",
       " 'LdapConfig',\n",
       " 'Level',\n",
       " 'LoggingConfig',\n",
       " 'Measure',\n",
       " 'MeasureMetadata',\n",
       " 'MultiColumnArrayConversion',\n",
       " 'MultiRowArrayConversion',\n",
       " 'NaturalOrder',\n",
       " 'OAuth2ResourceOwnerPasswordAuthentication',\n",
       " 'OidcConfig',\n",
       " 'OriginScope',\n",
       " 'QueryCube',\n",
       " 'QueryHierarchy',\n",
       " 'QueryLevel',\n",
       " 'QueryMeasure',\n",
       " 'QueryResult',\n",
       " 'QuerySession',\n",
       " 'STRING',\n",
       " 'Session',\n",
       " 'SiblingsScope',\n",
       " 'Table',\n",
       " 'TokenAuthentication',\n",
       " 'UserContentStorageConfig',\n",
       " 'UserServiceClient',\n",
       " 'ZONED_DATE_TIME',\n",
       " '__builtins__',\n",
       " '__cached__',\n",
       " '__doc__',\n",
       " '__file__',\n",
       " '__license__',\n",
       " '__loader__',\n",
       " '__name__',\n",
       " '__package__',\n",
       " '__path__',\n",
       " '__spec__',\n",
       " '_aggregate_providers',\n",
       " '_api_decorators',\n",
       " '_arrow_utils',\n",
       " '_basic_credentials',\n",
       " '_check_column_condition_table',\n",
       " '_check_java_version',\n",
       " '_collection_method_names',\n",
       " '_column_convertible',\n",
       " '_compose_decorators',\n",
       " '_condition_to_json_serializable_dict',\n",
       " '_create_branding_app_extension',\n",
       " '_data_type_error',\n",
       " '_decorate_api',\n",
       " '_docs_utils',\n",
       " '_endpoint',\n",
       " '_eula',\n",
       " '_external_aggregate_table_sql',\n",
       " '_external_table_identifier',\n",
       " '_file_utils',\n",
       " '_function_operation',\n",
       " '_get_java_executable_path',\n",
       " '_hierarchy_arguments',\n",
       " '_is_jwt_expired',\n",
       " '_java_api',\n",
       " '_jdbc_utils',\n",
       " '_level_arguments',\n",
       " '_local_cube',\n",
       " '_local_cubes',\n",
       " '_local_hierarchies',\n",
       " '_local_measures',\n",
       " '_local_session',\n",
       " '_measure_convertible',\n",
       " '_measure_definition',\n",
       " '_measure_description',\n",
       " '_measure_metadata',\n",
       " '_measures',\n",
       " '_member_properties',\n",
       " '_n',\n",
       " '_operation',\n",
       " '_pandas_utils',\n",
       " '_patch_databricks_py4j',\n",
       " '_path',\n",
       " '_path_utils',\n",
       " '_print_eula_message',\n",
       " '_py4j_utils',\n",
       " '_query_plan',\n",
       " '_report',\n",
       " '_server_subprocess',\n",
       " '_sources',\n",
       " '_spark_utils',\n",
       " '_telemeter',\n",
       " '_telemetry',\n",
       " '_track_call',\n",
       " '_transaction',\n",
       " '_udaf_utils',\n",
       " '_user_service_client',\n",
       " '_validate_call',\n",
       " '_version',\n",
       " '_wait_for_matching_output',\n",
       " '_where_operation',\n",
       " 'agg',\n",
       " 'aggregate_provider',\n",
       " 'aggregates_cache',\n",
       " 'app_extension',\n",
       " 'array',\n",
       " 'at',\n",
       " 'authentication',\n",
       " 'auto_multi_column_array_conversion',\n",
       " 'basic_authentication_config',\n",
       " 'branding_config',\n",
       " 'client_certificate_config',\n",
       " 'client_side_encryption_config',\n",
       " 'column',\n",
       " 'config',\n",
       " 'cube',\n",
       " 'cube_context',\n",
       " 'cubes',\n",
       " 'cumulative_scope',\n",
       " 'custom_order',\n",
       " 'date_diff',\n",
       " 'date_shift',\n",
       " 'directquery',\n",
       " 'experimental',\n",
       " 'external_agg',\n",
       " 'external_aggregate_table',\n",
       " 'external_tables',\n",
       " 'filter',\n",
       " 'first',\n",
       " 'function',\n",
       " 'get_env_flag',\n",
       " 'hide_new_eula_message',\n",
       " 'hierarchies',\n",
       " 'hierarchy',\n",
       " 'https_config',\n",
       " 'i18n_config',\n",
       " 'jwt_config',\n",
       " 'kerberos_config',\n",
       " 'key_pair',\n",
       " 'last',\n",
       " 'ldap_config',\n",
       " 'level',\n",
       " 'levels',\n",
       " 'logging_config',\n",
       " 'lookup',\n",
       " 'math',\n",
       " 'measure',\n",
       " 'measures',\n",
       " 'multi_column_array_conversion',\n",
       " 'multi_row_array_conversion',\n",
       " 'natural_order',\n",
       " 'oidc_config',\n",
       " 'order',\n",
       " 'origin_scope',\n",
       " 'parent_value',\n",
       " 'pyapi',\n",
       " 'rank',\n",
       " 'scope',\n",
       " 'session',\n",
       " 'shift',\n",
       " 'siblings_scope',\n",
       " 'string',\n",
       " 'switch',\n",
       " 'table',\n",
       " 'tables',\n",
       " 'total',\n",
       " 'type',\n",
       " 'user_content_storage_config',\n",
       " 'where']"
      ]
     },
     "execution_count": 6,
     "metadata": {},
     "output_type": "execute_result"
    }
   ],
   "source": [
    "import atoti as tt\n",
    "dir(tt)"
   ]
  },
  {
   "cell_type": "code",
   "execution_count": 7,
   "id": "1b78362e-1ceb-4c4f-b250-fc2105694e12",
   "metadata": {},
   "outputs": [
    {
     "name": "stderr",
     "output_type": "stream",
     "text": [
      "C:\\Users\\fassa\\Downloads\\Python\\envs\\myenv\\Lib\\site-packages\\atoti_core\\_link.py:27: FutureWarning: Calling `Session.link()` is deprecated, just access the `Session.link` property instead. Use `session.link / 'some_path'` to add a path to the linked URL.\n",
      "  deprecated(\n"
     ]
    },
    {
     "data": {
      "application/vnd.atoti.link.v0+json": {
       "path": "",
       "sessionLocation": {
        "https": false,
        "port": 52366
       }
      },
      "text/markdown": [
       "http://localhost:52366\n",
       "\n",
       "_Note_: This is the session's local URL: it may not be reachable if Atoti is running on another machine."
      ],
      "text/plain": [
       "http://localhost:52366 (This is the session's local URL: it may not be reachable if Atoti is running on another machine.)"
      ]
     },
     "execution_count": 7,
     "metadata": {},
     "output_type": "execute_result"
    }
   ],
   "source": [
    "session = tt.Session()\n",
    "session.link()"
   ]
  },
  {
   "cell_type": "code",
   "execution_count": 8,
   "id": "71b59395-48d0-489a-bca8-d189e05eeabd",
   "metadata": {},
   "outputs": [],
   "source": [
    "population_table = session.read_pandas(\n",
    "    population_df, keys=['popul_per_country_id'], table_name=\"Population\"\n",
    ")\n",
    "continent_table = session.read_pandas(\n",
    "    continent_df, keys=['continent_id'], table_name=\"Continent\"\n",
    ")\n",
    "dates_table = session.read_pandas(\n",
    "    date_df, keys=['date_id'], table_name=\"Date\"\n",
    ")\n",
    "Covid_table = session.read_pandas(\n",
    "    covid_df, keys=['date_id', 'continent_id', 'popul_per_country_id'], table_name=\"Covid19\"\n",
    ")"
   ]
  },
  {
   "cell_type": "code",
   "execution_count": 9,
   "id": "1311a9e9-79ac-46d4-a950-d0e61c7c42d1",
   "metadata": {},
   "outputs": [],
   "source": [
    "Covid_table.join(population_table, Covid_table[\"popul_per_country_id\"]==population_table[\"popul_per_country_id\"])\n",
    "Covid_table.join(continent_table, Covid_table[\"continent_id\"]==continent_table[\"continent_id\"])\n",
    "Covid_table.join(dates_table, Covid_table[\"date_id\"]==dates_table[\"date_id\"])\n",
    "\n",
    "cube = session.create_cube(Covid_table)\n",
    "h, l, m = cube.hierarchies, cube.levels, cube.measures\n",
    "h[\"pays\"]=[population_table[\"country\"],population_table[\"geold\"],population_table[\"popdata\"]]"
   ]
  },
  {
   "cell_type": "code",
   "execution_count": 10,
   "id": "0f7d2826-c0a3-469c-8cb3-f8cc68165b89",
   "metadata": {},
   "outputs": [
    {
     "name": "stderr",
     "output_type": "stream",
     "text": [
      "An error occurred while calling o194.generateSchemaGraph.\n",
      ": guru.nidi.graphviz.engine.GraphvizException: None of the provided engines could be initialized.\n",
      "\tat guru.nidi.graphviz.engine.Graphviz.getEngine(Graphviz.java:162)\n",
      "\tat guru.nidi.graphviz.engine.Graphviz.doExecute(Graphviz.java:312)\n",
      "\tat guru.nidi.graphviz.engine.Graphviz.execute(Graphviz.java:292)\n",
      "\tat guru.nidi.graphviz.engine.Renderer.execute(Renderer.java:139)\n",
      "\tat guru.nidi.graphviz.engine.Renderer.toFile(Renderer.java:59)\n",
      "\tat com.activeviam.graphviz.DataStoreGraphBuilder.writeGraph(DataStoreGraphBuilder.java:110)\n",
      "\tat com.activeviam.graphviz.DataStoreGraphBuilder.buildCubeSchema(DataStoreGraphBuilder.java:92)\n",
      "\tat io.atoti.api.impl.OutsideTransactionDataApiImpl.generateSchemaGraph(OutsideTransactionDataApiImpl.java:185)\n",
      "\tat java.base/jdk.internal.reflect.NativeMethodAccessorImpl.invoke0(Native Method)\n",
      "\tat java.base/jdk.internal.reflect.NativeMethodAccessorImpl.invoke(Unknown Source)\n",
      "\tat java.base/jdk.internal.reflect.DelegatingMethodAccessorImpl.invoke(Unknown Source)\n",
      "\tat java.base/java.lang.reflect.Method.invoke(Unknown Source)\n",
      "\tat py4j.reflection.MethodInvoker.invoke(MethodInvoker.java:244)\n",
      "\tat py4j.reflection.ReflectionEngine.invoke(ReflectionEngine.java:357)\n",
      "\tat py4j.Gateway.invoke(Gateway.java:282)\n",
      "\tat py4j.commands.AbstractCommand.invokeMethod(AbstractCommand.java:132)\n",
      "\tat py4j.commands.CallCommand.execute(CallCommand.java:79)\n",
      "\tat py4j.ClientServerConnection.waitForCommands(ClientServerConnection.java:182)\n",
      "\tat py4j.ClientServerConnection.run(ClientServerConnection.java:106)\n",
      "\tat java.base/java.lang.Thread.run(Unknown Source)\n",
      "\n"
     ]
    }
   ],
   "source": [
    "cube.schema"
   ]
  },
  {
   "cell_type": "code",
   "execution_count": 11,
   "id": "bb2bffae-34e0-486d-9b97-d7a3da00138f",
   "metadata": {},
   "outputs": [
    {
     "data": {
      "application/json": {
       "Dimensions": {
        "Continent": {
         "continent": [
          "continent"
         ]
        },
        "Covid19": {
         "cases": [
          "cases"
         ],
         "continent_id": [
          "continent_id"
         ],
         "date_id": [
          "date_id"
         ],
         "deaths": [
          "deaths"
         ],
         "popul_per_country_id": [
          "popul_per_country_id"
         ]
        },
        "Date": {
         "année": [
          "année"
         ],
         "jour": [
          "jour"
         ],
         "mois": [
          "mois"
         ]
        },
        "Population": {
         "country": [
          "country"
         ],
         "countrycode": [
          "countrycode"
         ],
         "geold": [
          "geold"
         ],
         "pays": [
          "country",
          "geold",
          "popdata"
         ],
         "popdata": [
          "popdata"
         ]
        }
       },
       "Measures": {
        "contributors.COUNT": {
         "formatter": "INT[#,###]"
        },
        "cumulative.MEAN": {
         "formatter": "DOUBLE[#,###.00]"
        },
        "cumulative.SUM": {
         "formatter": "DOUBLE[#,###.00]"
        }
       }
      },
      "text/html": [
       "<ul>\n",
       "<li>Covid19\n",
       "  <ul>\n",
       "  <li>Dimensions\n",
       "    <ul>\n",
       "    <li>Continent\n",
       "      <ul>\n",
       "      <li>continent\n",
       "        <ol>\n",
       "        <li>continent</li>\n",
       "        </ol>      </li>\n",
       "      </ul>\n",
       "    </li>\n",
       "    <li>Covid19\n",
       "      <ul>\n",
       "      <li>cases\n",
       "        <ol>\n",
       "        <li>cases</li>\n",
       "        </ol>      </li>\n",
       "      <li>continent_id\n",
       "        <ol>\n",
       "        <li>continent_id</li>\n",
       "        </ol>      </li>\n",
       "      <li>date_id\n",
       "        <ol>\n",
       "        <li>date_id</li>\n",
       "        </ol>      </li>\n",
       "      <li>deaths\n",
       "        <ol>\n",
       "        <li>deaths</li>\n",
       "        </ol>      </li>\n",
       "      <li>popul_per_country_id\n",
       "        <ol>\n",
       "        <li>popul_per_country_id</li>\n",
       "        </ol>      </li>\n",
       "      </ul>\n",
       "    </li>\n",
       "    <li>Date\n",
       "      <ul>\n",
       "      <li>année\n",
       "        <ol>\n",
       "        <li>année</li>\n",
       "        </ol>      </li>\n",
       "      <li>jour\n",
       "        <ol>\n",
       "        <li>jour</li>\n",
       "        </ol>      </li>\n",
       "      <li>mois\n",
       "        <ol>\n",
       "        <li>mois</li>\n",
       "        </ol>      </li>\n",
       "      </ul>\n",
       "    </li>\n",
       "    <li>Population\n",
       "      <ul>\n",
       "      <li>country\n",
       "        <ol>\n",
       "        <li>country</li>\n",
       "        </ol>      </li>\n",
       "      <li>countrycode\n",
       "        <ol>\n",
       "        <li>countrycode</li>\n",
       "        </ol>      </li>\n",
       "      <li>geold\n",
       "        <ol>\n",
       "        <li>geold</li>\n",
       "        </ol>      </li>\n",
       "      <li>pays\n",
       "        <ol>\n",
       "        <li>country</li>\n",
       "        <li>geold</li>\n",
       "        <li>popdata</li>\n",
       "        </ol>      </li>\n",
       "      <li>popdata\n",
       "        <ol>\n",
       "        <li>popdata</li>\n",
       "        </ol>      </li>\n",
       "      </ul>\n",
       "    </li>\n",
       "    </ul>\n",
       "  </li>\n",
       "  <li>Measures\n",
       "    <ul>\n",
       "    <li>contributors.COUNT\n",
       "      <ul>\n",
       "      <li>formatter: INT[#,###]</li>\n",
       "      </ul>\n",
       "    </li>\n",
       "    <li>cumulative.MEAN\n",
       "      <ul>\n",
       "      <li>formatter: DOUBLE[#,###.00]</li>\n",
       "      </ul>\n",
       "    </li>\n",
       "    <li>cumulative.SUM\n",
       "      <ul>\n",
       "      <li>formatter: DOUBLE[#,###.00]</li>\n",
       "      </ul>\n",
       "    </li>\n",
       "    </ul>\n",
       "  </li>\n",
       "  </ul>\n",
       "</li>\n",
       "</ul>\n"
      ],
      "text/plain": [
       "<atoti.cube.Cube at 0x17531e86840>"
      ]
     },
     "execution_count": 11,
     "metadata": {
      "application/json": {
       "expanded": false,
       "root": "Covid19"
      }
     },
     "output_type": "execute_result"
    }
   ],
   "source": [
    "cube"
   ]
  },
  {
   "cell_type": "code",
   "execution_count": null,
   "id": "691a4c73-4f15-4506-b376-711fa595985a",
   "metadata": {},
   "outputs": [],
   "source": [
    "session.visualize()"
   ]
  },
  {
   "cell_type": "code",
   "execution_count": null,
   "id": "4828fdcc-bd68-4393-ba44-a00bf2afb11f",
   "metadata": {},
   "outputs": [],
   "source": []
  }
 ],
 "metadata": {
  "kernelspec": {
   "display_name": "Python 3 (ipykernel)",
   "language": "python",
   "name": "python3"
  },
  "language_info": {
   "codemirror_mode": {
    "name": "ipython",
    "version": 3
   },
   "file_extension": ".py",
   "mimetype": "text/x-python",
   "name": "python",
   "nbconvert_exporter": "python",
   "pygments_lexer": "ipython3",
   "version": "3.10.9"
  }
 },
 "nbformat": 4,
 "nbformat_minor": 5
}
